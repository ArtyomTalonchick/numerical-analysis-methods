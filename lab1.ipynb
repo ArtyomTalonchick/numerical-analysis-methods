{
 "cells": [
  {
   "cell_type": "code",
   "execution_count": 1,
   "metadata": {},
   "outputs": [],
   "source": [
    "import sympy as sp\n",
    "import numpy as np\n",
    "import matplotlib.pyplot as plt\n",
    "from functools import reduce\n",
    "from prettytable import PrettyTable"
   ]
  },
  {
   "cell_type": "code",
   "execution_count": 2,
   "metadata": {},
   "outputs": [],
   "source": [
    "x = sp.symbols('x')\n",
    "bounds = [-1, 1]"
   ]
  },
  {
   "cell_type": "markdown",
   "metadata": {},
   "source": [
    "# РЕШЕНИЕ КРАЕВЫХ ЗАДАЧ МЕТОДОМ РАЗНОСТНЫХ АППРОКСИМАЦИЙ"
   ]
  },
  {
   "cell_type": "markdown",
   "metadata": {},
   "source": [
    "## Теория\n",
    "\n",
    "Рассматриваем уравнение вида:\n",
    "\n",
    "$$\n",
    "t(x)\\cdot y'' + p(x) \\cdot y' + q(x) \\cdot y = f(x)\n",
    "$$\n",
    "\n",
    "$$\n",
    "t(x), p(x), q(x), f(x) - непрерывные \\ на\\  отрезке\\  [a, b]\\ функции\n",
    "$$\n",
    "\n",
    "### Условия для базисной системы\n",
    "\n",
    "1. $\\phi_{0}$ удовлетворяет граничному условию\n",
    "2. функции $\\phi_{1}(x), ..., \\phi_{n}(x)$ - линейно независимы на [a, b] и удовлетворяют однородным граничным условиям\n",
    "\n",
    "Тогда по базисным функция строим приближенное решение в виде линейной комбинации базисный функций:\n",
    "\n",
    "$$\n",
    "y_{n} = \\phi_{0}(x) + a_{1}*\\phi_{1}(x) + ... + a_{n}*\\phi_{n}(x)\n",
    "$$\n",
    "\n",
    "Задача сводится к выбору $a_{1}, ..., a_{n}$ таких, чтобы $y_{n}(x)$ удовлетворяла граничному условию и приближалась к граничному решению.\n",
    "\n",
    "Выражение:\n",
    "\n",
    "$$\n",
    "\\psi(x, a_{1}, ..., a_{n}) = t(x) \\cdot y_{n}(x)'' + p(x) \\cdot y_{n}(x)' + q(x) \\cdot y_{n}(x) - f(x)\n",
    "$$\n",
    "\n",
    "Называется невязкой"
   ]
  },
  {
   "cell_type": "markdown",
   "metadata": {},
   "source": [
    "Базисные функции вида:\n",
    "\n",
    "$$\n",
    "x^{i} \\cdot (1 - x^2)\n",
    "$$"
   ]
  },
  {
   "cell_type": "code",
   "execution_count": 3,
   "metadata": {},
   "outputs": [],
   "source": [
    "def create_base_system(t, p, q, f):\n",
    "    n = int(input(\"Введите количество базисных функций: \"))\n",
    "    coefs = sp.symbols('a1:%s' % (n+1))\n",
    "    base_system = [x**i * (1 - x**2) for i in range(n)]\n",
    "    return n, coefs, base_system"
   ]
  },
  {
   "cell_type": "markdown",
   "metadata": {},
   "source": [
    "## Способы решение краевой задачи"
   ]
  },
  {
   "cell_type": "markdown",
   "metadata": {},
   "source": [
    "### Метод коллокаций"
   ]
  },
  {
   "cell_type": "markdown",
   "metadata": {},
   "source": [
    "На отрезке $[a, b]$ выбирается $m$ точек $x_{1}, ..., x_{n}$ $(m \\geq n)$\n",
    "\n",
    "Эти точки последовательно подставляются в невязку, считаю, что она должна быть равна `0`\n",
    "\n",
    "Обычно берётся `m = n` и решается система из `n` уравнений и `n` неизвестных"
   ]
  },
  {
   "cell_type": "code",
   "execution_count": 4,
   "metadata": {},
   "outputs": [],
   "source": [
    "def collocation_method(n, psi, coefs, *args):\n",
    "    # m = int(input('Введите количество точек для метода коллокаций (>= %s)' % n))\n",
    "    points = np.linspace(*bounds, n + 2)\n",
    "    psi_func = sp.lambdify(x, psi)\n",
    "    system = [\n",
    "        psi_func(i) for i in points[1:-1]\n",
    "    ]\n",
    "    return sp.solve(system, coefs)"
   ]
  },
  {
   "cell_type": "markdown",
   "metadata": {},
   "source": [
    "### Интегральный МНК"
   ]
  },
  {
   "cell_type": "markdown",
   "metadata": {},
   "source": [
    "Для нахождения коффициентов при базисных функциях минимизируется интеграл:\n",
    "\n",
    "$$\n",
    "I = \\int_a^b \\phi^2(x, a_1, ..., a_n)dx\n",
    "$$\n",
    "\n",
    "Для нахождения минимума интеграла решаем систему:\n",
    "\n",
    "$$\n",
    "\\frac{dI}{d a_1} = 2 \\int_a^b \\psi(x, a_1, ..., a_n) \\frac{d \\psi(x, a_1, ..., a_n)}{da_1}dx = 0\n",
    "$$\n",
    "$$\n",
    "...............................................\n",
    "$$\n",
    "$$\n",
    "\\frac{dI}{d a_n} = 2 \\int_a^b \\psi(x, a_1, ..., a_n) \\frac{d \\psi(x, a_1, ..., a_n)}{d a_n}dx = 0\n",
    "$$"
   ]
  },
  {
   "cell_type": "code",
   "execution_count": 5,
   "metadata": {},
   "outputs": [],
   "source": [
    "def integral_LSM_method(n, psi, coefs, *args):\n",
    "    system = [\n",
    "        sp.integrate(psi * psi.diff(ai), (x, *bounds)) for ai in coefs\n",
    "    ]\n",
    "    return sp.solve(system, coefs)"
   ]
  },
  {
   "cell_type": "markdown",
   "metadata": {},
   "source": [
    "### Дискретный МНК"
   ]
  },
  {
   "cell_type": "markdown",
   "metadata": {},
   "source": [
    "Выбирается $N > n$ точек и решается задача минимизации:\n",
    "\n",
    "$$\n",
    "S = \\sum_{i=1}^{N}\\psi^2(x_i, a_1, ..., a_n)\n",
    "$$\n",
    "\n",
    "Для её решение решается система:\n",
    "\n",
    "$$\n",
    "\\frac{dS}{d a_1} = 0\n",
    "$$\n",
    "$$\n",
    ".......\n",
    "$$\n",
    "$$\n",
    "\\frac{dS}{d a_n} = 0\n",
    "$$"
   ]
  },
  {
   "cell_type": "code",
   "execution_count": 6,
   "metadata": {},
   "outputs": [],
   "source": [
    "def discrete_LSM_method(n, psi, coefs, *args):\n",
    "    points_amount = int(input('Введите количество точек для дискретного МНК(> %s): ' % n))\n",
    "    points = np.linspace(*bounds, points_amount + 2)\n",
    "    S = sum(psi.subs(x, i)**2 for i in points[1:-1])\n",
    "    system = [\n",
    "        S.diff(ai) for ai in coefs\n",
    "    ]\n",
    "    return sp.solve(system, coefs)"
   ]
  },
  {
   "cell_type": "markdown",
   "metadata": {},
   "source": [
    "### Метод Галёркина"
   ]
  },
  {
   "cell_type": "markdown",
   "metadata": {},
   "source": [
    "Рассматриваем невязку $\\psi$ и для определения коэффициентов $a_1, ..., a_n$ решаем систему:\n",
    "\n",
    "\n",
    "$$\n",
    "\\int_a^b\\psi(x, a_1, ..., a_n)\\cdot \\psi_1(x)dx = 0\n",
    "$$\n",
    "$$\n",
    "................................\n",
    "$$\n",
    "$$\n",
    "\\int_a^b\\psi(x, a_1, ..., a_n)\\cdot \\psi_n(x)dx = 0\n",
    "$$\n"
   ]
  },
  {
   "cell_type": "code",
   "execution_count": 7,
   "metadata": {},
   "outputs": [],
   "source": [
    "def galerkin_method(n, psi, coefs, base_system):\n",
    "    system = [\n",
    "        sp.integrate(psi * base_system[i], (x, *bounds)) for i in range(n)\n",
    "    ]\n",
    "    return sp.solve(system, coefs)"
   ]
  },
  {
   "cell_type": "markdown",
   "metadata": {},
   "source": [
    "## Solver"
   ]
  },
  {
   "cell_type": "code",
   "execution_count": 8,
   "metadata": {},
   "outputs": [],
   "source": [
    "def solver(t, p, q, f):\n",
    "    solvers = [collocation_method, discrete_LSM_method, galerkin_method]\n",
    "    \n",
    "    # создание базисный фукнций\n",
    "    n, coefs, base_system = create_base_system(t, p, q, f)\n",
    "    \n",
    "    # создание аппроксимации y и выражениия пси\n",
    "    yn = reduce(lambda acc, t: acc + t[0]*t[1], zip(coefs, base_system), 0)\n",
    "    psi = t * yn.diff(x, x) + p * yn.diff(x) + q * yn - f\n",
    "    \n",
    "    # создание таблицы\n",
    "    table = PrettyTable()\n",
    "    table.field_names = ['Name', 'max(y)'] + ['a%s' % (i + 1) for i in range(n)]\n",
    "    \n",
    "    # решение задачи (нахождение коэффициентов)\n",
    "    for func in solvers:\n",
    "        answer = func(n, psi, coefs, base_system)\n",
    "        # print('Answer',answer)\n",
    "        \n",
    "        y = sp.lambdify(x, yn.subs(answer))\n",
    "        xs = np.linspace(*bounds)\n",
    "        ys = np.array([y(i) for i in xs])\n",
    "        plt.plot(xs, ys, label=func.__name__)\n",
    "        \n",
    "        table.add_row([func.__name__, round(max(ys), 3), *list(map(lambda x: round(x, 6),answer.values()))])\n",
    "        \n",
    "    plt.grid()\n",
    "    plt.legend()\n",
    "    plt.show()\n",
    "    print(table)"
   ]
  },
  {
   "cell_type": "code",
   "execution_count": 9,
   "metadata": {
    "scrolled": false
   },
   "outputs": [
    {
     "name": "stdout",
     "output_type": "stream",
     "text": [
      "Введите количество базисных функций: 5\n",
      "Введите количество точек для дискретного МНК(> 5): 25\n"
     ]
    },
    {
     "data": {
      "image/png": "[encoded data removed]",
      "text/plain": [
       "<Figure size 432x288 with 1 Axes>"
      ]
     },
     "metadata": {
      "needs_background": "light"
     },
     "output_type": "display_data"
    },
    {
     "name": "stdout",
     "output_type": "stream",
     "text": [
      "+---------------------+--------+----------+------+-----------+-----+----------+\n",
      "|         Name        | max(y) |    a1    |  a2  |     a3    |  a4 |    a5    |\n",
      "+---------------------+--------+----------+------+-----------+-----+----------+\n",
      "|  collocation_method | 0.965  | 0.964956 | 0.0  | -0.115524 | 0.0 | 0.019974 |\n",
      "| discrete_LSM_method | 0.964  | 0.964467 | -0.0 |  -0.11518 | 0.0 | 0.01834  |\n",
      "|   galerkin_method   | 0.964  | 0.964474 | 0.0  | -0.115334 | 0.0 | 0.018544 |\n",
      "+---------------------+--------+----------+------+-----------+-----+----------+\n"
     ]
    }
   ],
   "source": [
    "solver(np.sin(2), 0, 1 + np.cos(2) * x**2, -1)"
   ]
  },
  {
   "cell_type": "markdown",
   "metadata": {},
   "source": []
  }
 ],
 "metadata": {
  "kernelspec": {
   "display_name": "Python 3",
   "language": "python",
   "name": "python3"
  },
  "language_info": {
   "codemirror_mode": {
    "name": "ipython",
    "version": 3
   },
   "file_extension": ".py",
   "mimetype": "text/x-python",
   "name": "python",
   "nbconvert_exporter": "python",
   "pygments_lexer": "ipython3",
   "version": "3.7.3"
  }
 },
 "nbformat": 4,
 "nbformat_minor": 2
}
